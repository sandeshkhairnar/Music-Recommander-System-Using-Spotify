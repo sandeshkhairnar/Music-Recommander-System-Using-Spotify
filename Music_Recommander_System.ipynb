{
  "nbformat": 4,
  "nbformat_minor": 0,
  "metadata": {
    "colab": {
      "provenance": []
    },
    "kernelspec": {
      "name": "python3",
      "display_name": "Python 3"
    },
    "language_info": {
      "name": "python"
    }
  },
  "cells": [
    {
      "cell_type": "markdown",
      "source": [
        "### Obtaining Spotify Access Token\n"
      ],
      "metadata": {
        "id": "_pggUvgOcHTA"
      }
    },
    {
      "cell_type": "code",
      "execution_count": 27,
      "metadata": {
        "colab": {
          "base_uri": "https://localhost:8080/"
        },
        "id": "hr-tUp1KUj1M",
        "outputId": "0d666944-6f77-4d59-bd7a-d78888a32088"
      },
      "outputs": [
        {
          "output_type": "stream",
          "name": "stdout",
          "text": [
            "Access token obtained successfully.\n"
          ]
        }
      ],
      "source": [
        "import requests\n",
        "import base64\n",
        "\n",
        "CLIENT_ID = 'ba1eb30ee9234aecb8206cc9ada11936'\n",
        "CLIENT_SECRET = '0e06f33abb34411081518b90c4311f9c'\n",
        "\n",
        "client_credentials = f\"{CLIENT_ID}:{CLIENT_SECRET}\"\n",
        "client_credentials_base64 = base64.b64encode(client_credentials.encode())\n",
        "\n",
        "token_url = 'https://accounts.spotify.com/api/token'\n",
        "headers = {\n",
        "    'Authorization': f'Basic {client_credentials_base64.decode()}'\n",
        "}\n",
        "data = {\n",
        "    'grant_type': 'client_credentials'\n",
        "}\n",
        "response = requests.post(token_url, data=data, headers=headers)\n",
        "\n",
        "if response.status_code == 200:\n",
        "    access_token = response.json()['access_token']\n",
        "    print(\"Access token obtained successfully.\")\n",
        "else:\n",
        "    print(\"Error obtaining access token.\")\n",
        "    exit()"
      ]
    },
    {
      "cell_type": "markdown",
      "source": [
        "### Retrieving Trending Playlist Data"
      ],
      "metadata": {
        "id": "z7Vc9Fticio6"
      }
    },
    {
      "cell_type": "code",
      "source": [
        "import pandas as pd\n",
        "import spotipy\n",
        "from spotipy.oauth2 import SpotifyOAuth\n",
        "\n",
        "def get_trending_playlist_data(playlist_id, access_token):\n",
        "    # Set up Spotipy with the access token\n",
        "    sp = spotipy.Spotify(auth=access_token)\n",
        "\n",
        "    # Get the tracks from the playlist\n",
        "    playlist_tracks = sp.playlist_tracks(playlist_id, fields='items(track(id, name, artists, album(id, name)))')\n",
        "\n",
        "    # Extract relevant information and store in a list of dictionaries\n",
        "    music_data = []\n",
        "    for track_info in playlist_tracks['items']:\n",
        "        track = track_info['track']\n",
        "        track_name = track['name']\n",
        "        artists = ', '.join([artist['name'] for artist in track['artists']])\n",
        "        album_name = track['album']['name']\n",
        "        album_id = track['album']['id']\n",
        "        track_id = track['id']\n",
        "\n",
        "        # Get audio features for the track\n",
        "        audio_features = sp.audio_features(track_id)[0] if track_id != 'Not available' else None\n",
        "\n",
        "        # Get release date of the album\n",
        "        try:\n",
        "            album_info = sp.album(album_id) if album_id != 'Not available' else None\n",
        "            release_date = album_info['release_date'] if album_info else None\n",
        "        except:\n",
        "            release_date = None\n",
        "\n",
        "        # Get popularity of the track\n",
        "        try:\n",
        "            track_info = sp.track(track_id) if track_id != 'Not available' else None\n",
        "            popularity = track_info['popularity'] if track_info else None\n",
        "        except:\n",
        "            popularity = None\n",
        "\n",
        "        # Add additional track information to the track data\n",
        "        track_data = {\n",
        "            'Track Name': track_name,\n",
        "            'Artists': artists,\n",
        "            'Album Name': album_name,\n",
        "            'Album ID': album_id,\n",
        "            'Track ID': track_id,\n",
        "            'Popularity': popularity,\n",
        "            'Release Date': release_date,\n",
        "            'Duration (ms)': audio_features['duration_ms'] if audio_features else None,\n",
        "            'Explicit': track_info.get('explicit', None),\n",
        "            'External URLs': track_info.get('external_urls', {}).get('spotify', None),\n",
        "            'Danceability': audio_features['danceability'] if audio_features else None,\n",
        "            'Energy': audio_features['energy'] if audio_features else None,\n",
        "            'Key': audio_features['key'] if audio_features else None,\n",
        "            'Loudness': audio_features['loudness'] if audio_features else None,\n",
        "            'Mode': audio_features['mode'] if audio_features else None,\n",
        "            'Speechiness': audio_features['speechiness'] if audio_features else None,\n",
        "            'Acousticness': audio_features['acousticness'] if audio_features else None,\n",
        "            'Instrumentalness': audio_features['instrumentalness'] if audio_features else None,\n",
        "            'Liveness': audio_features['liveness'] if audio_features else None,\n",
        "            'Valence': audio_features['valence'] if audio_features else None,\n",
        "            'Tempo': audio_features['tempo'] if audio_features else None,\n",
        "            # Add more attributes as needed\n",
        "        }\n",
        "\n",
        "        music_data.append(track_data)\n",
        "\n",
        "    # Create a pandas DataFrame from the list of dictionaries\n",
        "    df = pd.DataFrame(music_data)\n",
        "\n",
        "    return df"
      ],
      "metadata": {
        "id": "BkpzdE6IXuOa"
      },
      "execution_count": 28,
      "outputs": []
    },
    {
      "cell_type": "markdown",
      "source": [
        "### Fetching Music Data from Spotify Playlist and Displaying DataFrame"
      ],
      "metadata": {
        "id": "vzMryssDdqSc"
      }
    },
    {
      "cell_type": "code",
      "source": [
        "playlist_id = '37i9dQZF1DX76Wlfdnj7AP'\n",
        "\n",
        "# Call the function to get the music data from the playlist and store it in a DataFrame\n",
        "music_df = get_trending_playlist_data(playlist_id, access_token)\n",
        "\n",
        "# Display the DataFrame\n",
        "print(music_df)"
      ],
      "metadata": {
        "colab": {
          "base_uri": "https://localhost:8080/"
        },
        "id": "V6zKBfqdX0yj",
        "outputId": "677e3e7b-6712-421b-d6ad-71bc06cf2022"
      },
      "execution_count": 29,
      "outputs": [
        {
          "output_type": "stream",
          "name": "stdout",
          "text": [
            "            Track Name                                            Artists  \\\n",
            "0          Not Like Us                                     Kendrick Lamar   \n",
            "1             CARNIVAL  ¥$, Kanye West, Ty Dolla $ign, Rich The Kid, P...   \n",
            "2                Pedro            Jaxomy, Agatino Romero, Raffaella Carrà   \n",
            "3            Type Shit  Future, Metro Boomin, Travis Scott, Playboi Carti   \n",
            "4   Tell Ur Girlfriend                                          Lay Bankz   \n",
            "..                 ...                                                ...   \n",
            "95            stayinit                 Fred again.., Lil Yachty, Overmono   \n",
            "96   Edge of Seventeen                                               Wuki   \n",
            "97          SUPERMODEL                                           Måneskin   \n",
            "98                RIZZ                                              AYYBO   \n",
            "99              LOKERA                      Rauw Alejandro, Lyanno, Brray   \n",
            "\n",
            "            Album Name                Album ID                Track ID  \\\n",
            "0          Not Like Us  5JjnoGJyOxfSZUZtk2rRwZ  6AI3ezQ4o3HUoP6Dhudph3   \n",
            "1           VULTURES 1  30zwjSQEodaUXCn11nmiVF  3w0w2T288dec0mgeZZqoNN   \n",
            "2                Pedro  5y6RXjI5VPR0RyInghTbf1  48lxT5qJF0yYyf2z4wB4xW   \n",
            "3   WE DON'T TRUST YOU  4iqbFIdGOTzXeDtt9owjQn  28drn6tQo95MRvO0jQEo5C   \n",
            "4   Tell Ur Girlfriend  0S8DGX9LmBkRSVi3ywcCOT  3lMzT16MjAKKXF7pSZn13B   \n",
            "..                 ...                     ...                     ...   \n",
            "95            stayinit  0DeGmYq33W6Svw1eTgnxDF  6WS2TcsMEGOFtveWbtbuwZ   \n",
            "96   Edge of Seventeen  6oeEtPWpOfed7plMHI5qef  5IFSvSEeCAvvBEQ85poqKB   \n",
            "97          SUPERMODEL  5jhbLeXH1a3SRSOg84GSUn  63WuQOXohQIxOxIFA2K7bR   \n",
            "98                RIZZ  6uH0vo25qVqNveP02Pr4Uc  3DqOJ2BoddzZpNdty3okJH   \n",
            "99              LOKERA  4vJcqwIGUuk5TeP29OPovU  79HZAZNnOE97rb2hnI0XQr   \n",
            "\n",
            "    Popularity Release Date  Duration (ms)  Explicit  \\\n",
            "0           98   2024-05-04         274192      True   \n",
            "1           92   2024-02-09         264324      True   \n",
            "2           91   2024-03-29         144846     False   \n",
            "3           91   2024-03-22         228267      True   \n",
            "4           91   2024-02-07         124444      True   \n",
            "..         ...          ...            ...       ...   \n",
            "95          71   2024-02-28         274925     False   \n",
            "96          72   2022-10-21         164043     False   \n",
            "97          70   2022-05-13         148064     False   \n",
            "98          70   2023-11-15         200787      True   \n",
            "99          70   2022-07-25         197101      True   \n",
            "\n",
            "                                        External URLs  ...  Energy  Key  \\\n",
            "0   https://open.spotify.com/track/6AI3ezQ4o3HUoP6...  ...   0.472    1   \n",
            "1   https://open.spotify.com/track/3w0w2T288dec0mg...  ...   0.811    1   \n",
            "2   https://open.spotify.com/track/48lxT5qJF0yYyf2...  ...   0.936    9   \n",
            "3   https://open.spotify.com/track/28drn6tQo95MRvO...  ...   0.552    2   \n",
            "4   https://open.spotify.com/track/3lMzT16MjAKKXF7...  ...   0.741    7   \n",
            "..                                                ...  ...     ...  ...   \n",
            "95  https://open.spotify.com/track/6WS2TcsMEGOFtve...  ...   0.755    7   \n",
            "96  https://open.spotify.com/track/5IFSvSEeCAvvBEQ...  ...   0.909    5   \n",
            "97  https://open.spotify.com/track/63WuQOXohQIxOxI...  ...   0.876    7   \n",
            "98  https://open.spotify.com/track/3DqOJ2BoddzZpNd...  ...   0.839    7   \n",
            "99  https://open.spotify.com/track/79HZAZNnOE97rb2...  ...   0.826   11   \n",
            "\n",
            "    Loudness  Mode  Speechiness  Acousticness  Instrumentalness  Liveness  \\\n",
            "0     -7.001     1       0.0776       0.01070          0.000000    0.1410   \n",
            "1     -5.746     1       0.1590       0.18900          0.000000    0.3390   \n",
            "2     -6.294     1       0.3010       0.02290          0.000001    0.3110   \n",
            "3     -5.679     1       0.1290       0.02150          0.000000    0.1190   \n",
            "4     -4.660     1       0.2450       0.09330          0.000000    0.0297   \n",
            "..       ...   ...          ...           ...               ...       ...   \n",
            "95    -6.502     0       0.1220       0.00300          0.005110    0.2440   \n",
            "96    -5.999     0       0.0476       0.03240          0.527000    0.0800   \n",
            "97    -3.413     1       0.0555       0.00164          0.000000    0.1170   \n",
            "98    -5.733     1       0.1530       0.07360          0.426000    0.3200   \n",
            "99    -2.660     0       0.0461       0.21300          0.000006    0.0814   \n",
            "\n",
            "    Valence    Tempo  \n",
            "0     0.214  101.061  \n",
            "1     0.311  148.144  \n",
            "2     0.844  151.019  \n",
            "3     0.112  144.941  \n",
            "4     0.614  135.070  \n",
            "..      ...      ...  \n",
            "95    0.132  134.082  \n",
            "96    0.351  127.997  \n",
            "97    0.799  120.983  \n",
            "98    0.729  127.044  \n",
            "99    0.579  102.025  \n",
            "\n",
            "[100 rows x 21 columns]\n"
          ]
        }
      ]
    },
    {
      "cell_type": "markdown",
      "source": [
        "### Checking for Null Values in DataFrame"
      ],
      "metadata": {
        "id": "ZmzYPpR0dwux"
      }
    },
    {
      "cell_type": "code",
      "source": [
        "print(music_df.isnull().sum())"
      ],
      "metadata": {
        "colab": {
          "base_uri": "https://localhost:8080/"
        },
        "id": "duj-rYEyYNNK",
        "outputId": "3323b3d4-1ed6-438b-fb87-7446b90000a2"
      },
      "execution_count": 30,
      "outputs": [
        {
          "output_type": "stream",
          "name": "stdout",
          "text": [
            "Track Name          0\n",
            "Artists             0\n",
            "Album Name          0\n",
            "Album ID            0\n",
            "Track ID            0\n",
            "Popularity          0\n",
            "Release Date        0\n",
            "Duration (ms)       0\n",
            "Explicit            0\n",
            "External URLs       0\n",
            "Danceability        0\n",
            "Energy              0\n",
            "Key                 0\n",
            "Loudness            0\n",
            "Mode                0\n",
            "Speechiness         0\n",
            "Acousticness        0\n",
            "Instrumentalness    0\n",
            "Liveness            0\n",
            "Valence             0\n",
            "Tempo               0\n",
            "dtype: int64\n"
          ]
        }
      ]
    },
    {
      "cell_type": "markdown",
      "source": [
        "### Data Preprocessing and Feature Scaling"
      ],
      "metadata": {
        "id": "OAwDJZuYcw1P"
      }
    },
    {
      "cell_type": "code",
      "source": [
        "import pandas as pd\n",
        "import numpy as np\n",
        "from sklearn.model_selection import train_test_split\n",
        "from sklearn.preprocessing import MinMaxScaler\n",
        "from datetime import datetime\n",
        "from sklearn.metrics.pairwise import cosine_similarity\n",
        "\n",
        "data = music_df"
      ],
      "metadata": {
        "id": "RUKXhLElYRfa"
      },
      "execution_count": 31,
      "outputs": []
    },
    {
      "cell_type": "markdown",
      "source": [
        "### Calculating Weighted Popularity Based on Release Date"
      ],
      "metadata": {
        "id": "cWAyGnw_d5JP"
      }
    },
    {
      "cell_type": "code",
      "source": [
        "def calculate_weighted_popularity(release_date):\n",
        "    release_date = datetime.strptime(release_date, '%Y-%m-%d')\n",
        "\n",
        "    time_span = datetime.now() - release_date\n",
        "\n",
        "    weight = 1 / (time_span.days + 1)\n",
        "    return weight"
      ],
      "metadata": {
        "id": "l9jrrIaDYtwL"
      },
      "execution_count": 32,
      "outputs": []
    },
    {
      "cell_type": "markdown",
      "source": [
        "### Scaling Music Features Using Min-Max Scaler"
      ],
      "metadata": {
        "id": "CA5kJhPGeApd"
      }
    },
    {
      "cell_type": "code",
      "source": [
        "scaler = MinMaxScaler()\n",
        "music_features = music_df[['Danceability', 'Energy', 'Key',\n",
        "                           'Loudness', 'Mode', 'Speechiness', 'Acousticness',\n",
        "                           'Instrumentalness', 'Liveness', 'Valence', 'Tempo']].values\n",
        "music_features_scaled = scaler.fit_transform(music_features)"
      ],
      "metadata": {
        "id": "jN5vHqgEY2Li"
      },
      "execution_count": 33,
      "outputs": []
    },
    {
      "cell_type": "markdown",
      "source": [
        "### Content-based Recommendations"
      ],
      "metadata": {
        "id": "ApcrIJuuc9yM"
      }
    },
    {
      "cell_type": "code",
      "source": [
        "def content_based_recommendations(input_song_name, num_recommendations=5):\n",
        "    if input_song_name not in music_df['Track Name'].values:\n",
        "        print(f\"'{input_song_name}' not found in the dataset. Please enter a valid song name.\")\n",
        "        return\n",
        "\n",
        "    input_song_index = music_df[music_df['Track Name'] == input_song_name].index[0]\n",
        "\n",
        "    similarity_scores = cosine_similarity([music_features_scaled[input_song_index]], music_features_scaled)\n",
        "\n",
        "    similar_song_indices = similarity_scores.argsort()[0][::-1][1:num_recommendations + 1]\n",
        "\n",
        "    content_based_recommendations = music_df.iloc[similar_song_indices][['Track Name', 'Artists', 'Album Name', 'Release Date', 'Popularity']]\n",
        "\n",
        "    return content_based_recommendations"
      ],
      "metadata": {
        "id": "VMZ3E29NY88H"
      },
      "execution_count": 34,
      "outputs": []
    },
    {
      "cell_type": "markdown",
      "source": [
        "### Hybrid Recommendations"
      ],
      "metadata": {
        "id": "97ZhUgK7dJQT"
      }
    },
    {
      "cell_type": "code",
      "source": [
        "def hybrid_recommendations(input_song_name, num_recommendations=5, alpha=0.5):\n",
        "    if input_song_name not in music_df['Track Name'].values:\n",
        "        print(f\"'{input_song_name}' not found in the dataset. Please enter a valid song name.\")\n",
        "        return\n",
        "\n",
        "    content_based_rec = content_based_recommendations(input_song_name, num_recommendations)\n",
        "\n",
        "    popularity_score = music_df.loc[music_df['Track Name'] == input_song_name, 'Popularity'].values[0]\n",
        "\n",
        "    weighted_popularity_score = popularity_score * calculate_weighted_popularity(music_df.loc[music_df['Track Name'] == input_song_name, 'Release Date'].values[0])\n",
        "\n",
        "    new_row = pd.DataFrame({\n",
        "        'Track Name': [input_song_name],\n",
        "        'Artists': [music_df.loc[music_df['Track Name'] == input_song_name, 'Artists'].values[0]],\n",
        "        'Album Name': [music_df.loc[music_df['Track Name'] == input_song_name, 'Album Name'].values[0]],\n",
        "        'Release Date': [music_df.loc[music_df['Track Name'] == input_song_name, 'Release Date'].values[0]],\n",
        "        'Popularity': [weighted_popularity_score]\n",
        "    })\n",
        "\n",
        "    hybrid_recommendations = pd.concat([content_based_rec, new_row], ignore_index=True)\n",
        "\n",
        "    hybrid_recommendations = hybrid_recommendations.sort_values(by='Popularity', ascending=False)\n",
        "\n",
        "    hybrid_recommendations = hybrid_recommendations[hybrid_recommendations['Track Name'] != input_song_name]\n",
        "\n",
        "    return hybrid_recommendations\n"
      ],
      "metadata": {
        "id": "37ZdSJajZF4i"
      },
      "execution_count": 35,
      "outputs": []
    },
    {
      "cell_type": "markdown",
      "source": [
        "### Output"
      ],
      "metadata": {
        "id": "Sa7VTGFDdQiM"
      }
    },
    {
      "cell_type": "code",
      "source": [
        "input_song_name = \"Just Wanna Rock\"\n",
        "recommendations = hybrid_recommendations(input_song_name, num_recommendations=5)\n",
        "print(f\"Hybrid recommended songs for '{input_song_name}':\")\n",
        "print(recommendations)"
      ],
      "metadata": {
        "colab": {
          "base_uri": "https://localhost:8080/"
        },
        "id": "J6qx3AIvZOk3",
        "outputId": "fce70e6c-ef5b-4358-fb9d-d6b5e99cd4db"
      },
      "execution_count": 39,
      "outputs": [
        {
          "output_type": "stream",
          "name": "stdout",
          "text": [
            "Hybrid recommended songs for 'Just Wanna Rock':\n",
            "                             Track Name                          Artists  \\\n",
            "0                                 Prada      cassö, RAYE, D-Block Europe   \n",
            "4  Overdrive (feat. Norma Jean Martine)     Ofenbach, Norma Jean Martine   \n",
            "1                      LET'S GET FKD UP  Alok, Mondello'G, CERES, Tribbs   \n",
            "2     SAY MY GRACE (feat. Travis Scott)             Offset, Travis Scott   \n",
            "3                      One in a Million         Bebe Rexha, David Guetta   \n",
            "\n",
            "                             Album Name Release Date  Popularity  \n",
            "0                                 Prada   2023-08-11        89.0  \n",
            "4  Overdrive (feat. Norma Jean Martine)   2023-10-06        86.0  \n",
            "1       LET'S GET FKD UP (feat. Tribbs)   2023-11-17        83.0  \n",
            "2                            SET IT OFF   2023-10-13        77.0  \n",
            "3                      One in a Million   2023-08-04        75.0  \n"
          ]
        }
      ]
    }
  ]
}